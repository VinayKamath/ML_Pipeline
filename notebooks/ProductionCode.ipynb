{
 "cells": [
  {
   "cell_type": "code",
   "execution_count": 1,
   "id": "61c0681c",
   "metadata": {},
   "outputs": [],
   "source": [
    "import pickle \n",
    "import numpy as np"
   ]
  },
  {
   "cell_type": "code",
   "execution_count": 18,
   "id": "d34a80f6",
   "metadata": {},
   "outputs": [
    {
     "name": "stdout",
     "output_type": "stream",
     "text": [
      "{'dataset': {'script_path': '../data/raw/titanic/train.csv'}, 'model': {'script_path': '../models/pipe.pkl'}, 'train_test_split': {'test_size': 0.2, 'random_state': 42}, 'feature_selection': {'score_function': 'chi2', 'k_highest_score': 8}}\n"
     ]
    }
   ],
   "source": [
    "import yaml\n",
    "\n",
    "parameters = yaml.safe_load(open('parameters.yml'))\n",
    "print(parameters)"
   ]
  },
  {
   "cell_type": "code",
   "execution_count": 19,
   "id": "75bad187",
   "metadata": {},
   "outputs": [],
   "source": [
    "pipe = pickle.load(open(parameters['model']['script_path'], 'rb'))"
   ]
  },
  {
   "cell_type": "code",
   "execution_count": 20,
   "id": "955ecac4",
   "metadata": {},
   "outputs": [],
   "source": [
    "test_input2 = np.array([2, 'male', 31.0, 0, 0, 10.5, 'S'], dtype=object).reshape(1,7)"
   ]
  },
  {
   "cell_type": "code",
   "execution_count": 21,
   "id": "3e790551",
   "metadata": {},
   "outputs": [
    {
     "data": {
      "text/plain": [
       "array([0], dtype=int64)"
      ]
     },
     "execution_count": 21,
     "metadata": {},
     "output_type": "execute_result"
    }
   ],
   "source": [
    "pipe.predict(test_input2)"
   ]
  },
  {
   "cell_type": "code",
   "execution_count": null,
   "id": "04476604",
   "metadata": {},
   "outputs": [],
   "source": []
  }
 ],
 "metadata": {
  "kernelspec": {
   "display_name": "Python 3 (ipykernel)",
   "language": "python",
   "name": "python3"
  },
  "language_info": {
   "codemirror_mode": {
    "name": "ipython",
    "version": 3
   },
   "file_extension": ".py",
   "mimetype": "text/x-python",
   "name": "python",
   "nbconvert_exporter": "python",
   "pygments_lexer": "ipython3",
   "version": "3.8.5"
  }
 },
 "nbformat": 4,
 "nbformat_minor": 5
}
